{
 "cells": [
  {
   "cell_type": "markdown",
   "metadata": {},
   "source": [
    "# Parcourir une liste"
   ]
  },
  {
   "cell_type": "markdown",
   "metadata": {},
   "source": [
    "Une des activités les plus fréquemment exécutées avec les listes c'est le parcours de la liste du premier au dernier élément. On trouve essentiellement deux méthodes pour parcourir l'intégralité d'une liste."
   ]
  },
  {
   "cell_type": "markdown",
   "metadata": {},
   "source": [
    "Première méthode : appliquer une boucle **for** sur un combinaison des fonction **range** et **len**."
   ]
  },
  {
   "cell_type": "code",
   "execution_count": null,
   "metadata": {
    "scrolled": true
   },
   "outputs": [],
   "source": [
    "b = [2, 3, 5, 7, 11]\n",
    "\n",
    "# len(b) donne le nombre d'élément de la liste b\n",
    "print(\"Nombre d'éléments dans la liste :\", len(b))\n",
    "\n",
    "# range(n) permet de parcourir les entiers de 0 à n-1\n",
    "print(\"On veut parcourir les entiers de\", range(len(b)))\n",
    "\n",
    "# Avec une boucle for on peut donc parcourir tous les rangs possibles avec la liste b.\n",
    "print(\"Parcours de ces entiers un par un :\")\n",
    "for i in range(len(b)):\n",
    "    print(i)"
   ]
  },
  {
   "cell_type": "code",
   "execution_count": null,
   "metadata": {
    "scrolled": true
   },
   "outputs": [],
   "source": [
    "b = [2, 3, 5, 7, 11]\n",
    "\n",
    "# Pour parcourir les objets de la liste il suffit alors d'aller chercher chaque élément \n",
    "# avec la notation entre crochets du rang.\n",
    "\n",
    "for i in range(len(b)):\n",
    "    print(\"Element de rang\", i, \"->\", b[i])"
   ]
  },
  {
   "cell_type": "markdown",
   "metadata": {},
   "source": [
    "Seconde methode : appliquer une boucle **for** sur la liste elle-même. "
   ]
  },
  {
   "cell_type": "code",
   "execution_count": null,
   "metadata": {},
   "outputs": [],
   "source": [
    "c = [\"Alpha\", \"Bravo\", \"Charlie\", \"Delta\"]\n",
    "\n",
    "print(\"Affichage des éléments de la liste un par un :\")\n",
    "for e in c:\n",
    "    print(\"Element :\", e)"
   ]
  },
  {
   "cell_type": "markdown",
   "metadata": {},
   "source": [
    "Notez bien la différence entre les deux méthodes.\n",
    "\n",
    "Dans le premier cas, la variable *i* parcourt la liste des rangs des objets de la liste alors que dans le second cas la variable _e_ parcourt directement la liste des objets.\n",
    "\n",
    "La seconde méthode est plus courte, plus claire et plus rapide que la première mais elle a un défaut : on ne connaît pas le rang de l'objet qui est dans la variable *e*.\n",
    "\n",
    "On choisira entre les deux méthodes suivant l'objectif qu'on souhaite atteindre."
   ]
  },
  {
   "cell_type": "markdown",
   "metadata": {},
   "source": [
    "A vous de jouer avec les trois exercices suivants :"
   ]
  },
  {
   "cell_type": "code",
   "execution_count": null,
   "metadata": {},
   "outputs": [],
   "source": [
    "# Exercice 1 :\n",
    "# Faire un script qui affiche chacun des entiers de la liste en précisant s'il est pair ou impair\n",
    "# Affichage attendu :\n",
    "# 127 est impair\n",
    "# 32 est pair\n",
    "# 14 est pair\n",
    "# 237 est impair\n",
    "# 19 est impair\n",
    "# 48 est pair\n",
    "\n",
    "desEntiers = [127, 32, 14, 237, 19, 48]\n",
    "\n",
    "\n",
    "\n",
    "\n"
   ]
  },
  {
   "cell_type": "code",
   "execution_count": null,
   "metadata": {},
   "outputs": [],
   "source": [
    "# Exercice 2 :\n",
    "# Faire un script qui pour chaque jour de la semaine affiche le nom du jour et son numéro \n",
    "# (de 1 pour lundi à 7 pour dimanche)\n",
    "# Affichage attendu :\n",
    "# Jour 1 : Lundi\n",
    "# Jour 2 : Mardi\n",
    "# Jour 3 : Mercredi\n",
    "# Jour 4 : Jeudi\n",
    "# Jour 5 : Vendredi\n",
    "# Jour 6 : Samedi\n",
    "# Jour 7 : Dimanche\n",
    "\n",
    "semaine = [\"Lundi\", \"Mardi\", \"Mercredi\", \"Jeudi\", \"Vendredi\", \"Samedi\", \"Dimanche\"]\n",
    "\n",
    "\n",
    "\n"
   ]
  },
  {
   "cell_type": "code",
   "execution_count": null,
   "metadata": {},
   "outputs": [],
   "source": [
    "# Exercice 3 :\n",
    "# Faire une fonction qui reçoit une liste et un objet \n",
    "# et qui renvoie le rang de l'objet s'il est dans la liste, ou -1 s'iln'est pas dans la liste\n",
    "# Il faut utiliser une boucle.\n",
    "\n",
    "def trouverRang(liste, objet):\n",
    "    pass\n",
    "\n",
    "\n",
    "print(\"On doit trouver  2 :\", trouverRang([\"S\", \"T\", \"O\", \"P\"], \"O\"))\n",
    "print(\"On doit trouver  6 :\", trouverRang([3, 6, 9, 12, 15, 18, 21], 21))\n",
    "print(\"On doit trouver -1 :\", trouverRang([1.1, 2.2, 3.3], 4.4))"
   ]
  }
 ],
 "metadata": {
  "kernelspec": {
   "display_name": "Python 3",
   "language": "python",
   "name": "python3"
  },
  "language_info": {
   "codemirror_mode": {
    "name": "ipython",
    "version": 3
   },
   "file_extension": ".py",
   "mimetype": "text/x-python",
   "name": "python",
   "nbconvert_exporter": "python",
   "pygments_lexer": "ipython3",
   "version": "3.7.3"
  }
 },
 "nbformat": 4,
 "nbformat_minor": 2
}
