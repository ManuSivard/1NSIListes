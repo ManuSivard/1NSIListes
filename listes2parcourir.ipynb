{
 "cells": [
  {
   "cell_type": "markdown",
   "metadata": {
    "nbgrader": {
     "grade": false,
     "grade_id": "cell-b9e1dd2bbbefb680",
     "locked": true,
     "schema_version": 3,
     "solution": false,
     "task": false
    }
   },
   "source": [
    "# Parcourir une liste"
   ]
  },
  {
   "cell_type": "markdown",
   "metadata": {
    "nbgrader": {
     "grade": false,
     "grade_id": "cell-1840a4e421fcaa6c",
     "locked": true,
     "schema_version": 3,
     "solution": false,
     "task": false
    }
   },
   "source": [
    "Une des activités les plus fréquemment exécutées avec les listes c'est le parcours de la liste du premier au dernier élément. On trouve essentiellement deux méthodes pour parcourir l'intégralité d'une liste."
   ]
  },
  {
   "cell_type": "markdown",
   "metadata": {
    "nbgrader": {
     "grade": false,
     "grade_id": "cell-1d93d8e57fba6c5b",
     "locked": true,
     "schema_version": 3,
     "solution": false,
     "task": false
    }
   },
   "source": [
    "Première méthode : appliquer une boucle **for** sur un combinaison des fonction **range** et **len**."
   ]
  },
  {
   "cell_type": "code",
   "execution_count": null,
   "metadata": {
    "nbgrader": {
     "grade": false,
     "grade_id": "cell-cc983d9615d7331b",
     "locked": true,
     "schema_version": 3,
     "solution": false,
     "task": false
    },
    "scrolled": true
   },
   "outputs": [],
   "source": [
    "b = [2, 3, 5, 7, 11]\n",
    "\n",
    "# len(b) donne le nombre d'élément de la liste b\n",
    "print(\"Nombre d'éléments dans la liste :\", len(b))\n",
    "\n",
    "# range(n) permet de parcourir les entiers de 0 à n-1\n",
    "print(\"On veut parcourir les entiers de\", range(len(b)))\n",
    "\n",
    "# Avec une boucle for on peut donc parcourir tous les rangs possibles avec la liste b.\n",
    "print(\"Parcours de ces entiers un par un :\")\n",
    "for i in range(len(b)):\n",
    "    print(i)"
   ]
  },
  {
   "cell_type": "code",
   "execution_count": null,
   "metadata": {
    "nbgrader": {
     "grade": false,
     "grade_id": "cell-29e4f6c13eff870c",
     "locked": true,
     "schema_version": 3,
     "solution": false,
     "task": false
    },
    "scrolled": true
   },
   "outputs": [],
   "source": [
    "b = [2, 3, 5, 7, 11]\n",
    "\n",
    "# Pour parcourir les objets de la liste il suffit alors d'aller chercher chaque élément \n",
    "# avec la notation entre crochets du rang.\n",
    "\n",
    "for i in range(len(b)):\n",
    "    print(\"Element de rang\", i, \"->\", b[i])"
   ]
  },
  {
   "cell_type": "markdown",
   "metadata": {
    "nbgrader": {
     "grade": false,
     "grade_id": "cell-e7b93cd9e63af951",
     "locked": true,
     "schema_version": 3,
     "solution": false,
     "task": false
    }
   },
   "source": [
    "Seconde methode : appliquer une boucle **for** sur la liste elle-même. "
   ]
  },
  {
   "cell_type": "code",
   "execution_count": null,
   "metadata": {
    "nbgrader": {
     "grade": false,
     "grade_id": "cell-d5ed8f7f86f5b840",
     "locked": true,
     "schema_version": 3,
     "solution": false,
     "task": false
    }
   },
   "outputs": [],
   "source": [
    "c = [\"Alpha\", \"Bravo\", \"Charlie\", \"Delta\"]\n",
    "\n",
    "print(\"Affichage des éléments de la liste un par un :\")\n",
    "for e in c:\n",
    "    print(\"Element :\", e)"
   ]
  },
  {
   "cell_type": "markdown",
   "metadata": {
    "nbgrader": {
     "grade": false,
     "grade_id": "cell-ca6f30c1a6b0c4f8",
     "locked": true,
     "schema_version": 3,
     "solution": false,
     "task": false
    }
   },
   "source": [
    "Notez bien la différence entre les deux méthodes.\n",
    "\n",
    "Dans le premier cas, la variable *i* parcourt la liste des rangs des objets de la liste alors que dans le second cas la variable _e_ parcourt directement la liste des objets.\n",
    "\n",
    "La seconde méthode est plus courte, plus claire et plus rapide que la première mais elle a un défaut : on ne connaît pas le rang de l'objet qui est dans la variable *e*.\n",
    "\n",
    "On choisira entre les deux méthodes suivant l'objectif qu'on souhaite atteindre."
   ]
  },
  {
   "cell_type": "markdown",
   "metadata": {
    "nbgrader": {
     "grade": false,
     "grade_id": "cell-1b7592d37d2a767b",
     "locked": true,
     "schema_version": 3,
     "solution": false,
     "task": false
    }
   },
   "source": [
    "A vous de jouer avec les trois exercices suivants :"
   ]
  },
  {
   "cell_type": "code",
   "execution_count": null,
   "metadata": {
    "nbgrader": {
     "grade": true,
     "grade_id": "cell-0eb528a30bf5af53",
     "locked": false,
     "points": 0,
     "schema_version": 3,
     "solution": true,
     "task": false
    }
   },
   "outputs": [],
   "source": [
    "# Exercice 1 :\n",
    "# Faire unscript qui affiche chacun des entiers d'une liste en précisant s'il est pair ou impair\n",
    "# Affichage attendu :\n",
    "# 127 est impair\n",
    "# 32 est pair\n",
    "# 14 est pair\n",
    "# 237 est impair\n",
    "# 19 est impair\n",
    "# 48 est pair\n",
    "\n",
    "desEntiers = [127, 32, 14, 237, 19, 48]\n",
    "\n",
    "### BEGIN SOLUTION\n",
    "for e in desEntiers:\n",
    "    if e % 2 == 0:\n",
    "        print(f\"{e} est pair\")\n",
    "    else:\n",
    "        print(f\"{e} est impair\")   \n",
    "### END SOLUTION"
   ]
  },
  {
   "cell_type": "code",
   "execution_count": null,
   "metadata": {
    "nbgrader": {
     "grade": true,
     "grade_id": "cell-d73b9c2deedcbbde",
     "locked": false,
     "points": 0,
     "schema_version": 3,
     "solution": true,
     "task": false
    }
   },
   "outputs": [],
   "source": [
    "# Exercice 2 :\n",
    "# Faire un script qui pour chaque jour de la semaine affiche le nom du jour et son numéro \n",
    "# (de 1 pour lundi à 7 pour dimanche)\n",
    "# Affichage attendu :\n",
    "# Jour 1 : Lundi\n",
    "# Jour 2 : Mardi\n",
    "# Jour 3 : Mercredi\n",
    "# Jour 4 : Jeudi\n",
    "# Jour 5 : Vendredi\n",
    "# Jour 6 : Samedi\n",
    "# Jour 7 : Dimanche\n",
    "\n",
    "semaine = [\"Lundi\", \"Mardi\", \"Mercredi\", \"Jeudi\", \"Vendredi\", \"Samedi\", \"Dimanche\"]\n",
    "\n",
    "### BEGIN SOLUTION\n",
    "for i in range(len(semaine)):\n",
    "    print(\"Jour\", i + 1, \":\", semaine[i])\n",
    "### END SOLUTION"
   ]
  },
  {
   "cell_type": "code",
   "execution_count": null,
   "metadata": {
    "nbgrader": {
     "grade": false,
     "grade_id": "cell-b94121e2b935f291",
     "locked": false,
     "schema_version": 3,
     "solution": true,
     "task": false
    }
   },
   "outputs": [],
   "source": [
    "# Exercice 3 :\n",
    "# Faire une fonction qui reçoit une liste et un objet \n",
    "# et qui renvoie le rang de l'objet s'il est dans la liste, ou -1 s'iln'est pas dans la liste\n",
    "# Il faut utiliser une boucle.\n",
    "\n",
    "def trouverRang(liste, objet):\n",
    "    ### BEGIN SOLUTION\n",
    "    for i in range(len(liste)):\n",
    "        if objet == liste[i]:\n",
    "            return i\n",
    "    return -1\n",
    "    ### END SOLUTION"
   ]
  },
  {
   "cell_type": "code",
   "execution_count": null,
   "metadata": {
    "nbgrader": {
     "grade": true,
     "grade_id": "cell-93e358fd22db2eb1",
     "locked": true,
     "points": 0,
     "schema_version": 3,
     "solution": false,
     "task": false
    }
   },
   "outputs": [],
   "source": [
    "# Test de la fonction précédente\n",
    "assert trouverRang([\"S\", \"T\", \"O\", \"P\"], \"O\") == 2\n",
    "assert trouverRang([3, 6, 9, 12, 15, 18, 21], 21) == 6\n",
    "assert trouverRang([1.1, 2.2, 3.3], 4.4) ==  -1\n",
    "print(\"Les 3 tests sont passés avec succès.\")\n",
    "### BEGIN HIDDEN TESTS\n",
    "assert trouverRang(list(range(10)), 5) == 5\n",
    "assert trouverRang(list(range(8)), 20) == -1\n",
    "assert trouverRang([], 11) == -1\n",
    "### END HIDDEN TESTS"
   ]
  }
 ],
 "metadata": {
  "celltoolbar": "Create Assignment",
  "kernelspec": {
   "display_name": "Python 3",
   "language": "python",
   "name": "python3"
  },
  "language_info": {
   "codemirror_mode": {
    "name": "ipython",
    "version": 3
   },
   "file_extension": ".py",
   "mimetype": "text/x-python",
   "name": "python",
   "nbconvert_exporter": "python",
   "pygments_lexer": "ipython3",
   "version": "3.6.7"
  }
 },
 "nbformat": 4,
 "nbformat_minor": 2
}
