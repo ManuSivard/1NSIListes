{
 "cells": [
  {
   "cell_type": "markdown",
   "metadata": {},
   "source": [
    "# Parcourir une liste"
   ]
  },
  {
   "cell_type": "markdown",
   "metadata": {},
   "source": [
    "Une des activités les plus fréquemment exécutées avec les listes c'est le parcours de la liste du premier au dernier élément.  \n",
    "On trouve essentiellement deux méthodes pour parcourir l'intégralité d'une liste."
   ]
  },
  {
   "cell_type": "markdown",
   "metadata": {},
   "source": [
    "Première méthode : appliquer une boucle **for** sur un combinaison des fonction **range** et **len**.  \n",
    "La fonction `len` permet d'obtenir le nombre d'éléments de la liste.  \n",
    "`range(n)` désigne tous les entiers de `0` à `n-1`.  \n",
    "L'instruction `for i in range(len(b)):` fait prendre successivement à la variable `i` toutes les valeurs entières allant de `0` jusqu'à `n-1`."
   ]
  },
  {
   "cell_type": "code",
   "execution_count": null,
   "metadata": {
    "scrolled": true
   },
   "outputs": [],
   "source": [
    "b = [2, 3, 5, 7, 11]\n",
    "print(f\"Longueur de la liste : {len(b)}\")\n",
    "print(\"Les différents rangs possibles sont :\")\n",
    "for i in range(len(b)):\n",
    "    print(i)"
   ]
  },
  {
   "cell_type": "markdown",
   "metadata": {},
   "source": [
    "Pour obtenir successivement tous les éléments de la liste il suffit alors d'aller les chercher à l'aide de leur rang, avec la notation entre crochets."
   ]
  },
  {
   "cell_type": "code",
   "execution_count": null,
   "metadata": {
    "scrolled": true
   },
   "outputs": [],
   "source": [
    "b = [2, 3, 5, 7, 11]\n",
    "print(\"Les différents éléments de la liste sont :\")\n",
    "for i in range(len(b)):\n",
    "    print(f\"Element de rang {i} -> {b[i]}\")"
   ]
  },
  {
   "cell_type": "markdown",
   "metadata": {},
   "source": [
    "Seconde methode : appliquer une boucle **for** sur la liste elle-même. "
   ]
  },
  {
   "cell_type": "code",
   "execution_count": null,
   "metadata": {},
   "outputs": [],
   "source": [
    "c = [\"Alpha\", \"Bravo\", \"Charlie\", \"Delta\"]\n",
    "print(\"Les différents éléments de la liste sont :\")\n",
    "for e in c:\n",
    "    print(f\"Element : {e}\")"
   ]
  },
  {
   "cell_type": "markdown",
   "metadata": {},
   "source": [
    "Notez bien la différence entre les deux méthodes.  \n",
    "Dans le premier cas, la variable `i` parcourt les rangs des éléments de la liste alors que dans le second cas la variable `e` parcourt directement les élements de la liste.  \n",
    "La seconde méthode est plus courte, plus claire et plus rapide que la première mais elle a un défaut : on ne connaît pas le rang de l'objet qui est dans la variable `e`.    \n",
    "On choisira entre les deux méthodes suivant l'objectif qu'on souhaite atteindre."
   ]
  },
  {
   "cell_type": "markdown",
   "metadata": {},
   "source": [
    "A vous de jouer avec les trois exercices suivants :"
   ]
  },
  {
   "cell_type": "markdown",
   "metadata": {},
   "source": [
    "#### Exercice 1 :  \n",
    "Faire un script qui affiche chacun des entiers de la liste `desEntiers` en précisant s'il est pair ou impair.  \n",
    "Affichage attendu avec `desEntiers = [127, 32, 14, 237, 19, 48]` :  \n",
    "\n",
    "    127 est impair  \n",
    "    32 est pair  \n",
    "    14 est pair  \n",
    "    237 est impair  \n",
    "    19 est impair  \n",
    "    48 est pair  "
   ]
  },
  {
   "cell_type": "code",
   "execution_count": null,
   "metadata": {},
   "outputs": [],
   "source": [
    "desEntiers = [127, 32, 14, 237, 19, 48]\n",
    "\n",
    "# votre code ici"
   ]
  },
  {
   "cell_type": "markdown",
   "metadata": {},
   "source": [
    "#### Exercice 2 :  \n",
    "Faire un script qui affiche pour chaque jour de la semaine affiche le nom du jour et son numér (de 1 pour lundi à 7 pour dimanche) :  \n",
    "\n",
    "    Jour 1 : Lundi\n",
    "    Jour 2 : Mardi\n",
    "    Jour 3 : Mercredi\n",
    "    Jour 4 : Jeudi\n",
    "    Jour 5 : Vendredi\n",
    "    Jour 6 : Samedi\n",
    "    Jour 7 : Dimanche\n"
   ]
  },
  {
   "cell_type": "code",
   "execution_count": null,
   "metadata": {},
   "outputs": [],
   "source": [
    "semaine = [\"Lundi\", \"Mardi\", \"Mercredi\", \"Jeudi\", \"Vendredi\", \"Samedi\", \"Dimanche\"]\n",
    "\n",
    "# votre code ici"
   ]
  },
  {
   "cell_type": "markdown",
   "metadata": {},
   "source": [
    "#### Exercice 3 :  \n",
    "Faire une fonction `trouverRang` qui reçoit une liste et un objet et qui renvoie le rang de l'objet s'il est dans la liste, ou -1 s'il n'est pas dans la liste\n",
    "Il faut utiliser une boucle.\n"
   ]
  },
  {
   "cell_type": "code",
   "execution_count": null,
   "metadata": {},
   "outputs": [],
   "source": [
    "def trouverRang(liste, objet):\n",
    "    # votre code ici\n",
    "    return -1# votre valeur\n",
    "\n",
    "print(\"Avec trouverRang(['S', 'T', 'O', 'P'], 'O'), on doit trouver  2 :\")\n",
    "print(trouverRang(['S', 'T', 'O', 'P'], 'O'))\n",
    "\n",
    "print(\"Avec trouverRang([3, 6, 9, 12, 15, 18, 21], 21), on doit trouver  6 :\")\n",
    "print(trouverRang([3, 6, 9, 12, 15, 18, 21], 21))\n",
    "\n",
    "print(\"Avec trouverRang([1.1, 2.2, 3.3], 4.4), on doit trouver -1 :\")\n",
    "print(trouverRang([1.1, 2.2, 3.3], 4.4))"
   ]
  }
 ],
 "metadata": {
  "kernelspec": {
   "display_name": "Python 3",
   "language": "python",
   "name": "python3"
  },
  "language_info": {
   "codemirror_mode": {
    "name": "ipython",
    "version": 3
   },
   "file_extension": ".py",
   "mimetype": "text/x-python",
   "name": "python",
   "nbconvert_exporter": "python",
   "pygments_lexer": "ipython3",
   "version": "3.7.3"
  }
 },
 "nbformat": 4,
 "nbformat_minor": 2
}
