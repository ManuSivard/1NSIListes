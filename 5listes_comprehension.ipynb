{
 "cells": [
  {
   "cell_type": "markdown",
   "metadata": {},
   "source": [
    "# Compréhension de liste"
   ]
  },
  {
   "cell_type": "markdown",
   "metadata": {},
   "source": [
    "Python possède un mécanisme très puissant qu'on appelle compréhension de liste et qui permet de créer des listes bien plus simplement que dans d'autres langages."
   ]
  },
  {
   "cell_type": "markdown",
   "metadata": {},
   "source": [
    "Supposons qu'on veuille créer la liste des carrés de 10 premiers entiers naturels.\n",
    "Il y a une solution qui fonctionne très bien :\n",
    "on part de la liste vide puis on y ajoute au fur et à mesure les carrés des entiers à l'aide d'une boucle for. Voici à quoi ressemble ce code :"
   ]
  },
  {
   "cell_type": "code",
   "execution_count": null,
   "metadata": {},
   "outputs": [],
   "source": [
    "carres = []\n",
    "print(carres)\n",
    "for i in range(10):\n",
    "    carres.append(i**2)\n",
    "    print(carres)\n",
    "print(\"On a bien obtenu la liste des carrés de 10 premiers entiers naturels :\", carres)"
   ]
  },
  {
   "cell_type": "markdown",
   "metadata": {},
   "source": [
    "On peut définir cette liste par compréhension en une seule ligne :"
   ]
  },
  {
   "cell_type": "code",
   "execution_count": null,
   "metadata": {},
   "outputs": [],
   "source": [
    "[n**2 for n in range(10)]"
   ]
  },
  {
   "cell_type": "markdown",
   "metadata": {},
   "source": [
    "Comme on le voit, on indique directement entre les crochets la boucle **for** à faire pour générer la liste.\n",
    "\n",
    "Toutefois, le calcul à faire dans cette boucle pour générer les valeurs n'est pas indiqué après le __for__ mais avant.\n",
    "\n",
    "De plus on en met pas les deux points traditionnels à la fin de la ligne où se situe un **for**.\n",
    "\n",
    "La ligne obtenue est extrêment claire en langage naturel : On veut la liste des carrés de n pour n pris dans range(10)."
   ]
  },
  {
   "cell_type": "markdown",
   "metadata": {},
   "source": [
    "A vous d'essayer :"
   ]
  },
  {
   "cell_type": "code",
   "execution_count": null,
   "metadata": {},
   "outputs": [],
   "source": [
    "# Exercice 1\n",
    "# Avec une compréhesion de liste, générer la liste des quarts des entiers de 10 à 20.\n",
    "\n"
   ]
  },
  {
   "cell_type": "code",
   "execution_count": null,
   "metadata": {},
   "outputs": [],
   "source": [
    "# Exercice 2\n",
    "# Générer la liste des opposés des nombres de la liste f\n",
    "f = [18, 64, 53, 10, 0]\n",
    "\n"
   ]
  },
  {
   "cell_type": "code",
   "execution_count": null,
   "metadata": {},
   "outputs": [],
   "source": [
    "# Exercice 3\n",
    "# Générer une liste où  chaque nombre de la liste k a été remplacé\n",
    "# par 0 s'il est pair et par 1 s'il est impair.\n",
    "k = [1, 2, 3, 10, 11, 12, 20, 25, 30]\n",
    "\n"
   ]
  },
  {
   "cell_type": "markdown",
   "metadata": {},
   "source": [
    "Le mécanisme est très puissant, on peut y ajouter une condition. Par exemple si je veux générer la liste des inverses d'une liste de nombres :"
   ]
  },
  {
   "cell_type": "code",
   "execution_count": null,
   "metadata": {},
   "outputs": [],
   "source": [
    "# Ce code pose un problème\n",
    "listeNombres = [10, -3, 5, 2, 0, 2]\n",
    "[1/x for x in listeNombres]"
   ]
  },
  {
   "cell_type": "markdown",
   "metadata": {},
   "source": [
    "Comme on ne peut pas diviser par zéro, on ne va construire que les inverses des nombres non nuls de la liste. Pour cela il suffit de rejouter cette condition après l'instruction **for**."
   ]
  },
  {
   "cell_type": "code",
   "execution_count": null,
   "metadata": {},
   "outputs": [],
   "source": [
    "# Ce code ne pose pas de problème\n",
    "listeNombres = [10, -3, 5, 2, 0, 2]\n",
    "[1/x for x in listeNombres if x != 0]"
   ]
  },
  {
   "cell_type": "markdown",
   "metadata": {},
   "source": [
    "La ligne qui créée la liste des inverse est à nouveau extrêment claire en langage naturel : On veut la liste des inverses de x pour x pris dans la listeNombres, mais seulement si x n'est pas égal à zéro."
   ]
  },
  {
   "cell_type": "markdown",
   "metadata": {},
   "source": [
    "A vous de jouer :"
   ]
  },
  {
   "cell_type": "code",
   "execution_count": null,
   "metadata": {},
   "outputs": [],
   "source": [
    "# Exercice 4\n",
    "# Générer la liste des tiers des nombres de la liste de nombres z qui sont divisibles par 3\n",
    "\n",
    "z = [8, 12, 21, 5, 37, 41, 144, 56]\n"
   ]
  },
  {
   "cell_type": "code",
   "execution_count": null,
   "metadata": {},
   "outputs": [],
   "source": [
    "# Exercice 5\n",
    "# Générer la liste obtenue en retirant tous les chiffres (décimaux) de la liste c\n",
    "\n",
    "c = [\"Y\", \"9\", \"7\", \"E\", \"S\", \"1\", \"4\"]\n"
   ]
  }
 ],
 "metadata": {
  "kernelspec": {
   "display_name": "Python 3",
   "language": "python",
   "name": "python3"
  },
  "language_info": {
   "codemirror_mode": {
    "name": "ipython",
    "version": 3
   },
   "file_extension": ".py",
   "mimetype": "text/x-python",
   "name": "python",
   "nbconvert_exporter": "python",
   "pygments_lexer": "ipython3",
   "version": "3.7.3"
  }
 },
 "nbformat": 4,
 "nbformat_minor": 2
}
