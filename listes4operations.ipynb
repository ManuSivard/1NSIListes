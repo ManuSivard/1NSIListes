{
 "cells": [
  {
   "cell_type": "markdown",
   "metadata": {},
   "source": [
    "# Opération sur les listes"
   ]
  },
  {
   "cell_type": "markdown",
   "metadata": {},
   "source": [
    "Python autorise à faire trois opérations sur les listes."
   ]
  },
  {
   "cell_type": "markdown",
   "metadata": {},
   "source": [
    "La première est la concaténation avec l'opérateur **+**."
   ]
  },
  {
   "cell_type": "code",
   "execution_count": null,
   "metadata": {},
   "outputs": [],
   "source": [
    "[3, 1, 4] + [1, 5, 9]"
   ]
  },
  {
   "cell_type": "markdown",
   "metadata": {},
   "source": [
    "Attention, contrairement à la méthode **extend**, il n'y a pas de modification de liste. Avec __+__ Python construit une nouvelle liste à partir des deux listes qu'on concatène sans modifier ces deux dernières."
   ]
  },
  {
   "cell_type": "code",
   "execution_count": null,
   "metadata": {},
   "outputs": [],
   "source": [
    "a = [3, 1, 4]\n",
    "print(f\"a -> {a}\")\n",
    "b = [1, 5, 9]\n",
    "print(f\"b -> {b}\")\n",
    "print(f\"a + b -> {a + b}\")\n",
    "print(f\"a -> {a}\")\n",
    "print(f\"b -> {b}\")"
   ]
  },
  {
   "cell_type": "markdown",
   "metadata": {},
   "source": [
    "La deuxième opération est la multiplication par un entier..."
   ]
  },
  {
   "cell_type": "code",
   "execution_count": null,
   "metadata": {},
   "outputs": [],
   "source": [
    "[\"A\", \"B\"] * 5"
   ]
  },
  {
   "cell_type": "markdown",
   "metadata": {},
   "source": [
    "C'est assez pratique quand on veut initialiser une liste avec plusieurs fois la même valeur (souvent 0). "
   ]
  },
  {
   "cell_type": "code",
   "execution_count": null,
   "metadata": {},
   "outputs": [],
   "source": [
    "[0] * 16"
   ]
  },
  {
   "cell_type": "markdown",
   "metadata": {},
   "source": [
    "La troisème opération est le test d'appartenance d'une élément à une liste avec l'opérateur **in**."
   ]
  },
  {
   "cell_type": "code",
   "execution_count": null,
   "metadata": {},
   "outputs": [],
   "source": [
    "6 in [4, 7, 10, 8, 3, 2, 5, 7, 4]"
   ]
  },
  {
   "cell_type": "code",
   "execution_count": null,
   "metadata": {},
   "outputs": [],
   "source": [
    "5 in [4, 7, 10, 8, 3, 2, 5, 7, 4]"
   ]
  },
  {
   "cell_type": "code",
   "execution_count": null,
   "metadata": {},
   "outputs": [],
   "source": [
    "c = [4, 7, 10, 8, 3, 2, 5, 7, 4]\n",
    "d = 2\n",
    "d in c"
   ]
  }
 ],
 "metadata": {
  "kernelspec": {
   "display_name": "Python 3",
   "language": "python",
   "name": "python3"
  },
  "language_info": {
   "codemirror_mode": {
    "name": "ipython",
    "version": 3
   },
   "file_extension": ".py",
   "mimetype": "text/x-python",
   "name": "python",
   "nbconvert_exporter": "python",
   "pygments_lexer": "ipython3",
   "version": "3.7.3"
  }
 },
 "nbformat": 4,
 "nbformat_minor": 2
}
