{
 "cells": [
  {
   "cell_type": "markdown",
   "metadata": {},
   "source": [
    "# Les listes sont des objets mutables"
   ]
  },
  {
   "cell_type": "markdown",
   "metadata": {},
   "source": [
    "Contrairement aux nombres ou aux chaînes de caractères, les listes sont des objets mutables (modifiables)."
   ]
  },
  {
   "cell_type": "markdown",
   "metadata": {},
   "source": [
    "On peut remplacer un objet de la liste par un autre à l'aide d'une simple affectation :"
   ]
  },
  {
   "cell_type": "code",
   "execution_count": null,
   "metadata": {},
   "outputs": [],
   "source": [
    "m = [0, \"Bonsoir\", 1.414]\n",
    "print(m)"
   ]
  },
  {
   "cell_type": "code",
   "execution_count": null,
   "metadata": {},
   "outputs": [],
   "source": [
    "m[1]=\"Bonjour\"\n",
    "print(m)"
   ]
  },
  {
   "cell_type": "code",
   "execution_count": null,
   "metadata": {},
   "outputs": [],
   "source": [
    "m[2] = 747\n",
    "print(m)"
   ]
  },
  {
   "cell_type": "code",
   "execution_count": null,
   "metadata": {},
   "outputs": [],
   "source": [
    "m[0] = True\n",
    "print(m)"
   ]
  },
  {
   "cell_type": "markdown",
   "metadata": {},
   "source": [
    "On peut ajouter un élément à la fin d'une liste à l'aide de la méthode **append**.\n",
    "\n",
    "Une méthode est une fonction qui \"appartient\" à un objet. Pour s'en servir, la syntaxe est un peu différente de celle des fonctions rencontrées jusque-là. On écrit *objet.méthode(arguments)* comme dans l'exemple avec __append__ ci-dessous."
   ]
  },
  {
   "cell_type": "code",
   "execution_count": null,
   "metadata": {
    "scrolled": true
   },
   "outputs": [],
   "source": [
    "p = [2, 4, 6, 8]\n",
    "print(p)\n",
    "print(\"On ajoute le nombre 10 à la fin de la liste avec la méthode append\")\n",
    "p.append(10)\n",
    "print(p)\n",
    "print(\"On ajoute le nombre 20 à la fin de la liste avec la méthode append\")\n",
    "p.append(20)\n",
    "print(p)"
   ]
  },
  {
   "cell_type": "markdown",
   "metadata": {},
   "source": [
    "On peut insérer un élément dans une liste à une position précise avec la méthode **insert**."
   ]
  },
  {
   "cell_type": "code",
   "execution_count": null,
   "metadata": {},
   "outputs": [],
   "source": [
    "w = [10, 15, 20, 30, 35, 40, 45, 50]\n",
    "print(w)\n",
    "# On insère le nombre 25 au rang 3\n",
    "w.insert(3, 25)\n",
    "print(w)\n",
    "# On insère le nombre 5 au début\n",
    "w.insert(0, 5)\n",
    "print(w)\n",
    "# On insère le nombre 55 à la fin\n",
    "w.insert(len(w), 55)\n",
    "print(w)"
   ]
  },
  {
   "cell_type": "markdown",
   "metadata": {},
   "source": [
    "On peut étendre une liste avec une liste de nouveaux éléments grâce la méthode **extend**."
   ]
  },
  {
   "cell_type": "code",
   "execution_count": null,
   "metadata": {},
   "outputs": [],
   "source": [
    "x = [1, 2, 3]\n",
    "print(\"x ->\", x)\n",
    "y = [4, 5, 6]\n",
    "print(\"y ->\", y)\n",
    "print(\"On rajoutte les éléments de y à la fin de x avec la méthode extend\")\n",
    "x.extend(y)\n",
    "print(\"x ->\", x)\n",
    "print(\"La liste y demeure inchangée ->\", y)"
   ]
  },
  {
   "cell_type": "markdown",
   "metadata": {},
   "source": [
    "On peut retirer un élément d'une liste en précisant son rang avec la méthode **pop**."
   ]
  },
  {
   "cell_type": "code",
   "execution_count": null,
   "metadata": {},
   "outputs": [],
   "source": [
    "g = [\"A\", \"E\", \"I\", \"O\", \"U\", \"Y\"]\n",
    "print(g)\n",
    "print(\"On retire l'élément de rang 0\")\n",
    "g.pop(0)\n",
    "print(g)\n",
    "print(\"On retire l'élément de rang 2\")\n",
    "g.pop(2)\n",
    "print(g)"
   ]
  },
  {
   "cell_type": "markdown",
   "metadata": {},
   "source": [
    "Remarque : La méthode **pop** retire l'élément de la liste et le renvoie, on peut donc le récupérer :"
   ]
  },
  {
   "cell_type": "code",
   "execution_count": null,
   "metadata": {},
   "outputs": [],
   "source": [
    "g = [\"A\", \"E\", \"I\", \"O\", \"U\", \"Y\"]\n",
    "print(g)\n",
    "print(\"On retire l'élément de rang 4\")\n",
    "a = g.pop(4)\n",
    "print(g)\n",
    "print(\"L'élément retiré était\", a)\n"
   ]
  },
  {
   "cell_type": "markdown",
   "metadata": {},
   "source": [
    "A vous de jouer avec quelques exercices :"
   ]
  },
  {
   "cell_type": "code",
   "execution_count": null,
   "metadata": {},
   "outputs": [],
   "source": [
    "# Exercice 1\n",
    "# Faire un script qui remplace chacun des nombres de la liste par son carré et affiche le résultat\n",
    "# Résultat attendu :\n",
    "# [1, 4, 0.25, 81, 0.01]\n",
    "\n",
    "nombres = [1, -2, 0.5, -9, 0.1]\n",
    "\n",
    "\n",
    "\n"
   ]
  },
  {
   "cell_type": "code",
   "execution_count": null,
   "metadata": {},
   "outputs": [],
   "source": [
    "# Exercice 2\n",
    "# Faire un script qui remplace chaque entier pair de la liste par sa moitié. \n",
    "# Résultat attendu :\n",
    "# [7, 4, 9, 11, 0, 1, 128]\n",
    "\n",
    "entiers = [7, 8, 9, 11, 0, 2, 256]\n"
   ]
  },
  {
   "cell_type": "code",
   "execution_count": null,
   "metadata": {},
   "outputs": [],
   "source": [
    "# Exercice 3\n",
    "# Faire un script qui ajoute à la liste a les éléments de la liste b qui sont positifs. \n",
    "# Résultat attendu :\n",
    "# [5, 8, 16, 89, 2, 4]\n",
    "\n",
    "a = [5, 8, 16]\n",
    "b = [89, -12, 2, -10, -7, 4]\n"
   ]
  }
 ],
 "metadata": {
  "kernelspec": {
   "display_name": "Python 3",
   "language": "python",
   "name": "python3"
  },
  "language_info": {
   "codemirror_mode": {
    "name": "ipython",
    "version": 3
   },
   "file_extension": ".py",
   "mimetype": "text/x-python",
   "name": "python",
   "nbconvert_exporter": "python",
   "pygments_lexer": "ipython3",
   "version": "3.7.3"
  }
 },
 "nbformat": 4,
 "nbformat_minor": 2
}
